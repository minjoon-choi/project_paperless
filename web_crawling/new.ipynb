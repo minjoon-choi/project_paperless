{
 "nbformat": 4,
 "nbformat_minor": 2,
 "metadata": {
  "language_info": {
   "name": "python",
   "codemirror_mode": {
    "name": "ipython",
    "version": 3
   },
   "version": "3.7.3"
  },
  "orig_nbformat": 2,
  "file_extension": ".py",
  "mimetype": "text/x-python",
  "name": "python",
  "npconvert_exporter": "python",
  "pygments_lexer": "ipython3",
  "version": 3,
  "kernelspec": {
   "name": "python3",
   "display_name": "Python 3"
  }
 },
 "cells": [
  {
   "cell_type": "code",
   "execution_count": 71,
   "metadata": {},
   "outputs": [],
   "source": [
    "#import requests\n",
    "from bs4 import BeautifulSoup\n",
    "from urllib.request import Request, urlopen\n",
    "from urllib.parse import urlencode, quote_plus, unquote\n",
    "import pymysql\n",
    "#import pandas as pd\n",
    "#from pandas import DataFrame, Series"
   ]
  },
  {
   "cell_type": "code",
   "execution_count": 75,
   "metadata": {},
   "outputs": [],
   "source": [
    "db = pymysql.connect(\n",
    "    host = 'localhost',\n",
    "    port = 3306,\n",
    "    user='root',\n",
    "    passwd='',\n",
    "    db='test'\n",
    ")"
   ]
  },
  {
   "cell_type": "code",
   "execution_count": 65,
   "metadata": {},
   "outputs": [],
   "source": [
    "url ='http://apis.data.go.kr/1470000/ImportFoodPrmisnInfoService/getImrtsCnfirmList'\n",
    "decode_key = unquote('D%2FfY8v%2BQO5BE3JlaIa8JkxCIFWV5ozmKjeafkQdLm5Ihu4w4rGyw4gkS45j0MZnRHJCuYT8JRW076yVNAWgxDQ%3D%3D')\n",
    "queryParams = '?' + urlencode({quote_plus('ServiceKey') : decode_key, 'pageNo' : '1', 'numOfRows' : '10'})"
   ]
  },
  {
   "cell_type": "code",
   "execution_count": 69,
   "metadata": {},
   "outputs": [
    {
     "name": "stdout",
     "output_type": "stream",
     "text": "<class 'bs4.BeautifulSoup'>\n1068726\n<response>\n<header>\n<resultcode>00</resultcode>\n<resultmsg>NORMAL SERVICE.</resultmsg>\n</header>\n<body>\n<numofrows>10</numofrows>\n<pageno>1</pageno>\n<totalcount>1068726</totalcount>\n<items>\n<item>\n<receipt_no>201700028678</receipt_no>\n<notice_goods_name>가공식품</notice_goods_name>\n<bsn_ofc_name>(주)나르샤코리아</bsn_ofc_name>\n<goods_kor_name>스피루리나 분말</goods_kor_name>\n<goods_eng_name>SPIRULINA POWDER</goods_eng_name>\n<item_name>기타가공품</item_name>\n<notice_date>20170124</notice_date>\n<flow_to_date>20181101</flow_to_date>\n<manufac_name>RBC LIFE SCIENCES</manufac_name>\n<manufac_country_name>미국</manufac_country_name>\n</item>\n<item>\n<receipt_no>201700438247</receipt_no>\n<notice_goods_name>가공식품</notice_goods_name>\n<bsn_ofc_name>주식회사 아시아마트</bsn_ofc_name>\n<goods_kor_name>건조망고</goods_kor_name>\n<goods_eng_name>DRIED MANGO</goods_eng_name>\n<item_name>당절임</item_name>\n<notice_date>20171124</notice_date>\n<flow_to_date>20181001</flow_to_date>\n<manufac_name>BANGKOK BANANA CHOCOLATE 2012 LIMITED PARTNERSHIP</manufac_name>\n<manufac_country_name>태국</manufac_country_name>\n</item>\n<item>\n<receipt_no>201700418352</receipt_no>\n<notice_goods_name>가공식품</notice_goods_name>\n<bsn_ofc_name>락타이</bsn_ofc_name>\n<goods_kor_name>템푸라가루</goods_kor_name>\n<goods_eng_name>TEMPURA FLOUR</goods_eng_name>\n<item_name>곡류가공품</item_name>\n<notice_date>20171110</notice_date>\n<flow_to_date>20190811</flow_to_date>\n<manufac_name>M＆R LABORATORY CO.,LTD.</manufac_name>\n<manufac_country_name>태국</manufac_country_name>\n</item>\n<item>\n<receipt_no>201700441201</receipt_no>\n<notice_goods_name>농.임산물</notice_goods_name>\n<bsn_ofc_name>주식회사골든라이스</bsn_ofc_name>\n<goods_kor_name>쌀</goods_kor_name>\n<goods_eng_name>CAMBODIAN RICE</goods_eng_name>\n<item_name>쌀/매현미/알곡</item_name>\n<notice_date>20171127</notice_date>\n<flow_to_date></flow_to_date>\n<manufac_name>AMRU RICE (CAMBODIA) CO., LTD</manufac_name>\n<manufac_country_name>캄보디아</manufac_country_name>\n</item>\n<item>\n<receipt_no>201700444765</receipt_no>\n<notice_goods_name>가공식품</notice_goods_name>\n<bsn_ofc_name>(주)지이디통상</bsn_ofc_name>\n<goods_kor_name>데 니그리스 발삼와인식초-250ml</goods_kor_name>\n<goods_eng_name>DE NIGRIS BALSAMIC VINEGAR OF MODENA(250ML)</goods_eng_name>\n<item_name>발효식초</item_name>\n<notice_date>20171129</notice_date>\n<flow_to_date>20220912</flow_to_date>\n<manufac_name>ACETIFICIO M. DE NIGRIS SRL</manufac_name>\n<manufac_country_name>이탈리아</manufac_country_name>\n</item>\n<item>\n<receipt_no>201700420551</receipt_no>\n<notice_goods_name>기구또는용기.포장</notice_goods_name>\n<bsn_ofc_name>(주)현대리바트</bsn_ofc_name>\n<goods_kor_name>비쥬얼드 샐러드 플레이트_스타 버스트(네이비/골드)</goods_kor_name>\n<goods_eng_name>BEJEWELED SALAD PLATE STARBURST NAVY/GOLD (1684674)</goods_eng_name>\n<item_name>기구류중도자기제</item_name>\n<notice_date>20171113</notice_date>\n<flow_to_date></flow_to_date>\n<manufac_name>INTERNATIONAL A.I.M. CORP</manufac_name>\n<manufac_country_name>중국</manufac_country_name>\n</item>\n<item>\n<receipt_no>201700436777</receipt_no>\n<notice_goods_name>농.임산물</notice_goods_name>\n<bsn_ofc_name>대림글로벌푸드(주)</bsn_ofc_name>\n<goods_kor_name>냉동홍고추</goods_kor_name>\n<goods_eng_name>FROZEN RED CHILLI</goods_eng_name>\n<item_name>고추/냉동</item_name>\n<notice_date>20171123</notice_date>\n<flow_to_date></flow_to_date>\n<manufac_name>QINGDAO SENYUAN FOODS.,LTD</manufac_name>\n<manufac_country_name>중국</manufac_country_name>\n</item>\n<item>\n<receipt_no>201700440330</receipt_no>\n<notice_goods_name>농.임산물</notice_goods_name>\n<bsn_ofc_name>주식회사 엠에스나은글로벌</bsn_ofc_name>\n<goods_kor_name>냉동고추</goods_kor_name>\n<goods_eng_name>FROZEN RED CHILLI</goods_eng_name>\n<item_name>고추/냉동</item_name>\n<notice_date>20171127</notice_date>\n<flow_to_date></flow_to_date>\n<manufac_name>QINGDAO COWIN INTERNATIONAL TRADE CO., LTD.</manufac_name>\n<manufac_country_name>중국</manufac_country_name>\n</item>\n<item>\n<receipt_no>201700407650</receipt_no>\n<notice_goods_name>가공식품</notice_goods_name>\n<bsn_ofc_name>이시스무역</bsn_ofc_name>\n<goods_kor_name>뵈린네케 다크초콜릿스프레드</goods_kor_name>\n<goods_eng_name>BOERINNEKE DARK CHOCOLATE SPREAD</goods_eng_name>\n<item_name>초콜릿가공품</item_name>\n<notice_date>20171102</notice_date>\n<flow_to_date>20181201</flow_to_date>\n<manufac_name>BOERINNEKE-MARINO NV</manufac_name>\n<manufac_country_name>벨기에</manufac_country_name>\n</item>\n<item>\n<receipt_no>201700485015</receipt_no>\n<notice_goods_name>식품첨가물</notice_goods_name>\n<bsn_ofc_name>주식회사 청우라이프사이언스</bsn_ofc_name>\n<goods_kor_name>난황오일</goods_kor_name>\n<goods_eng_name>YOLK OIL HF</goods_eng_name>\n<item_name>기타천연착향료</item_name>\n<notice_date>20171228</notice_date>\n<flow_to_date>20180823</flow_to_date>\n<manufac_name>KEWPIE CORPORATION FINE CHEMICAL GOKA PLANT</manufac_name>\n<manufac_country_name>일본</manufac_country_name>\n</item>\n</items>\n</body>\n</response>\n\n"
    }
   ],
   "source": [
    "response = requests.get(url+queryParams)\n",
    "soup = BeautifulSoup(response.text,\"html.parser\")\n",
    "print(type(soup))\n",
    "total_count = soup.find(\"totalcount\")\n",
    "print(total_count.text)\n",
    "print(soup)\n",
    "#print(soup)"
   ]
  },
  {
   "cell_type": "code",
   "execution_count": 67,
   "metadata": {},
   "outputs": [
    {
     "name": "stdout",
     "output_type": "stream",
     "text": "[<goods_kor_name>스피루리나 분말</goods_kor_name>, <goods_kor_name>건조망고</goods_kor_name>, <goods_kor_name>템푸라가루</goods_kor_name>, <goods_kor_name>쌀</goods_kor_name>, <goods_kor_name>데 니그리스 발삼와인식초-250ml</goods_kor_name>, <goods_kor_name>비쥬얼드 샐러드 플레이트_스타 버스트(네이비/골드)</goods_kor_name>, <goods_kor_name>냉동홍고추</goods_kor_name>, <goods_kor_name>냉동고추</goods_kor_name>, <goods_kor_name>뵈린네케 다크초콜릿스프레드</goods_kor_name>, <goods_kor_name>난황오일</goods_kor_name>]\n"
    }
   ],
   "source": [
    "goods_name = soup.findAll(\"goods_kor_name\")\n",
    "print(goods_name)"
   ]
  },
  {
   "cell_type": "code",
   "execution_count": 68,
   "metadata": {},
   "outputs": [
    {
     "data": {
      "text/plain": "\"create DataFrame\\n#DataFrame(Data, columns = ['receipt_no','notice_goods_name','bsn_ofc_name',\\n#'goods_kor_name','goods_eng_name','item_name','notice_date','flow_to_date',\\n#'manufac_name','manufac_country_name'])\""
     },
     "execution_count": 68,
     "metadata": {},
     "output_type": "execute_result"
    }
   ],
   "source": [
    "'''create DataFrame\n",
    "#DataFrame(Data, columns = ['receipt_no','notice_goods_name','bsn_ofc_name',\n",
    "#'goods_kor_name','goods_eng_name','item_name','notice_date','flow_to_date',\n",
    "#'manufac_name','manufac_country_name'])'''"
   ]
  },
  {
   "cell_type": "code",
   "execution_count": null,
   "metadata": {},
   "outputs": [],
   "source": []
  }
 ]
}