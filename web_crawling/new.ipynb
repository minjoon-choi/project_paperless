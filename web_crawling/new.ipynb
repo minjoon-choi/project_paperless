{
 "nbformat": 4,
 "nbformat_minor": 2,
 "metadata": {
  "language_info": {
   "name": "python",
   "codemirror_mode": {
    "name": "ipython",
    "version": 3
   },
   "version": "3.7.3"
  },
  "orig_nbformat": 2,
  "file_extension": ".py",
  "mimetype": "text/x-python",
  "name": "python",
  "npconvert_exporter": "python",
  "pygments_lexer": "ipython3",
  "version": 3
 },
 "cells": [
  {
   "cell_type": "code",
   "execution_count": 11,
   "metadata": {},
   "outputs": [],
   "source": [
    "import requests\n",
    "from urllib.request import Request, urlopen\n",
    "from urllib.parse import urlencode, quote_plus, unquote"
   ]
  },
  {
   "cell_type": "code",
   "execution_count": 46,
   "metadata": {},
   "outputs": [],
   "source": [
    "url ='http://apis.data.go.kr/1470000/ImportFoodPrmisnInfoService/getImrtsCnfirmList'\n",
    "queryParams = '?' + urlencode({quote_plus('ServiceKey') : 'D%2FfY8v%2BQO5BE3JlaIa8JkxCIFWV5ozmKjeafkQdLm5Ihu4w4rGyw4gkS45j0MZnRHJCuYT8JRW076yVNAWgxDQ%3D%3D'})"
   ]
  },
  {
   "cell_type": "code",
   "execution_count": 47,
   "metadata": {},
   "outputs": [
    {
     "name": "stdout",
     "output_type": "stream",
     "text": "<OpenAPI_ServiceResponse>\n\t<cmmMsgHeader>\n\t\t<errMsg>SERVICE ERROR</errMsg>\n\t\t<returnAuthMsg>SERVICE_KEY_IS_NOT_REGISTERED_ERROR</returnAuthMsg>\n\t\t<returnReasonCode>30</returnReasonCode>\n\t</cmmMsgHeader>\n</OpenAPI_ServiceResponse>\n"
    }
   ],
   "source": [
    "response = requests.get(url+queryParams)\n",
    "print(response.text)"
   ]
  }
 ]
}