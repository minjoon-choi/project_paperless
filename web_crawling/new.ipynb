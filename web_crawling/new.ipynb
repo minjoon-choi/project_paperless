{
 "nbformat": 4,
 "nbformat_minor": 2,
 "metadata": {
  "language_info": {
   "name": "python",
   "codemirror_mode": {
    "name": "ipython",
    "version": 3
   },
   "version": "3.7.3"
  },
  "orig_nbformat": 2,
  "file_extension": ".py",
  "mimetype": "text/x-python",
  "name": "python",
  "npconvert_exporter": "python",
  "pygments_lexer": "ipython3",
  "version": 3
 },
 "cells": [
  {
   "cell_type": "code",
   "execution_count": 81,
   "metadata": {},
   "outputs": [
    {
     "ename": "ModuleNotFoundError",
     "evalue": "No module named 'BeautifulSoup4'",
     "output_type": "error",
     "traceback": [
      "\u001b[1;31m---------------------------------------------------------------------------\u001b[0m",
      "\u001b[1;31mModuleNotFoundError\u001b[0m                       Traceback (most recent call last)",
      "\u001b[1;32m<ipython-input-81-3471d4e9ad85>\u001b[0m in \u001b[0;36m<module>\u001b[1;34m\u001b[0m\n\u001b[0;32m      1\u001b[0m \u001b[1;32mimport\u001b[0m \u001b[0mrequests\u001b[0m\u001b[1;33m\u001b[0m\u001b[1;33m\u001b[0m\u001b[0m\n\u001b[1;32m----> 2\u001b[1;33m \u001b[1;32mimport\u001b[0m \u001b[0mBeautifulSoup4\u001b[0m\u001b[1;33m\u001b[0m\u001b[1;33m\u001b[0m\u001b[0m\n\u001b[0m\u001b[0;32m      3\u001b[0m \u001b[1;32mfrom\u001b[0m \u001b[0murllib\u001b[0m\u001b[1;33m.\u001b[0m\u001b[0mrequest\u001b[0m \u001b[1;32mimport\u001b[0m \u001b[0mRequest\u001b[0m\u001b[1;33m,\u001b[0m \u001b[0murlopen\u001b[0m\u001b[1;33m\u001b[0m\u001b[1;33m\u001b[0m\u001b[0m\n\u001b[0;32m      4\u001b[0m \u001b[1;32mfrom\u001b[0m \u001b[0murllib\u001b[0m\u001b[1;33m.\u001b[0m\u001b[0mparse\u001b[0m \u001b[1;32mimport\u001b[0m \u001b[0murlencode\u001b[0m\u001b[1;33m,\u001b[0m \u001b[0mquote_plus\u001b[0m\u001b[1;33m,\u001b[0m \u001b[0munquote\u001b[0m\u001b[1;33m\u001b[0m\u001b[1;33m\u001b[0m\u001b[0m\n",
      "\u001b[1;31mModuleNotFoundError\u001b[0m: No module named 'BeautifulSoup4'"
     ]
    }
   ],
   "source": [
    "import requests\n",
    "#import BeautifulSoup4\n",
    "from urllib.request import Request, urlopen\n",
    "from urllib.parse import urlencode, quote_plus, unquote"
   ]
  },
  {
   "cell_type": "code",
   "execution_count": 65,
   "metadata": {},
   "outputs": [],
   "source": [
    "url ='http://apis.data.go.kr/1470000/ImportFoodPrmisnInfoService/getImrtsCnfirmList'\n",
    "decode_key = unquote('D%2FfY8v%2BQO5BE3JlaIa8JkxCIFWV5ozmKjeafkQdLm5Ihu4w4rGyw4gkS45j0MZnRHJCuYT8JRW076yVNAWgxDQ%3D%3D')\n",
    "queryParams = '?' + urlencode(\n",
    "    {quote_plus('ServiceKey') : decode_key})"
   ]
  },
  {
   "cell_type": "code",
   "execution_count": 67,
   "metadata": {},
   "outputs": [
    {
     "name": "stdout",
     "output_type": "stream",
     "text": "<response>\n<header>\n<resultCode>00</resultCode>\n<resultMsg>NORMAL SERVICE.</resultMsg>\n</header>\n<body>\n<numOfRows>10</numOfRows>\n<pageNo>1</pageNo>\n<totalCount>1066930</totalCount>\n<items>\n<item>\n<RECEIPT_NO>201700028678</RECEIPT_NO>\n<NOTICE_GOODS_NAME>가공식품</NOTICE_GOODS_NAME>\n<BSN_OFC_NAME>(주)나르샤코리아</BSN_OFC_NAME>\n<GOODS_KOR_NAME>스피루리나 분말</GOODS_KOR_NAME>\n<GOODS_ENG_NAME>SPIRULINA POWDER</GOODS_ENG_NAME>\n<ITEM_NAME>기타가공품</ITEM_NAME>\n<NOTICE_DATE>20170124</NOTICE_DATE>\n<FLOW_TO_DATE>20181101</FLOW_TO_DATE>\n<MANUFAC_NAME>RBC LIFE SCIENCES</MANUFAC_NAME>\n<MANUFAC_COUNTRY_NAME>미국</MANUFAC_COUNTRY_NAME>\n</item>\n<item>\n<RECEIPT_NO>201700438247</RECEIPT_NO>\n<NOTICE_GOODS_NAME>가공식품</NOTICE_GOODS_NAME>\n<BSN_OFC_NAME>주식회사 아시아마트</BSN_OFC_NAME>\n<GOODS_KOR_NAME>건조망고</GOODS_KOR_NAME>\n<GOODS_ENG_NAME>DRIED MANGO</GOODS_ENG_NAME>\n<ITEM_NAME>당절임</ITEM_NAME>\n<NOTICE_DATE>20171124</NOTICE_DATE>\n<FLOW_TO_DATE>20181001</FLOW_TO_DATE>\n<MANUFAC_NAME>BANGKOK BANANA CHOCOLATE 2012 LIMITED PARTNERSHIP</MANUFAC_NAME>\n<MANUFAC_COUNTRY_NAME>태국</MANUFAC_COUNTRY_NAME>\n</item>\n<item>\n<RECEIPT_NO>201700418352</RECEIPT_NO>\n<NOTICE_GOODS_NAME>가공식품</NOTICE_GOODS_NAME>\n<BSN_OFC_NAME>락타이</BSN_OFC_NAME>\n<GOODS_KOR_NAME>템푸라가루</GOODS_KOR_NAME>\n<GOODS_ENG_NAME>TEMPURA FLOUR</GOODS_ENG_NAME>\n<ITEM_NAME>곡류가공품</ITEM_NAME>\n<NOTICE_DATE>20171110</NOTICE_DATE>\n<FLOW_TO_DATE>20190811</FLOW_TO_DATE>\n<MANUFAC_NAME>M＆R LABORATORY CO.,LTD.</MANUFAC_NAME>\n<MANUFAC_COUNTRY_NAME>태국</MANUFAC_COUNTRY_NAME>\n</item>\n<item>\n<RECEIPT_NO>201700441201</RECEIPT_NO>\n<NOTICE_GOODS_NAME>농.임산물</NOTICE_GOODS_NAME>\n<BSN_OFC_NAME>주식회사골든라이스</BSN_OFC_NAME>\n<GOODS_KOR_NAME>쌀</GOODS_KOR_NAME>\n<GOODS_ENG_NAME>CAMBODIAN RICE</GOODS_ENG_NAME>\n<ITEM_NAME>쌀/매현미/알곡</ITEM_NAME>\n<NOTICE_DATE>20171127</NOTICE_DATE>\n<FLOW_TO_DATE/>\n<MANUFAC_NAME>AMRU RICE (CAMBODIA) CO., LTD</MANUFAC_NAME>\n<MANUFAC_COUNTRY_NAME>캄보디아</MANUFAC_COUNTRY_NAME>\n</item>\n<item>\n<RECEIPT_NO>201700444765</RECEIPT_NO>\n<NOTICE_GOODS_NAME>가공식품</NOTICE_GOODS_NAME>\n<BSN_OFC_NAME>(주)지이디통상</BSN_OFC_NAME>\n<GOODS_KOR_NAME>데 니그리스 발삼와인식초-250ml</GOODS_KOR_NAME>\n<GOODS_ENG_NAME>DE NIGRIS BALSAMIC VINEGAR OF MODENA(250ML)</GOODS_ENG_NAME>\n<ITEM_NAME>발효식초</ITEM_NAME>\n<NOTICE_DATE>20171129</NOTICE_DATE>\n<FLOW_TO_DATE>20220912</FLOW_TO_DATE>\n<MANUFAC_NAME>ACETIFICIO M. DE NIGRIS SRL</MANUFAC_NAME>\n<MANUFAC_COUNTRY_NAME>이탈리아</MANUFAC_COUNTRY_NAME>\n</item>\n<item>\n<RECEIPT_NO>201700420551</RECEIPT_NO>\n<NOTICE_GOODS_NAME>기구또는용기.포장</NOTICE_GOODS_NAME>\n<BSN_OFC_NAME>(주)현대리바트</BSN_OFC_NAME>\n<GOODS_KOR_NAME>비쥬얼드 샐러드 플레이트_스타 버스트(네이비/골드)</GOODS_KOR_NAME>\n<GOODS_ENG_NAME>BEJEWELED SALAD PLATE STARBURST NAVY/GOLD (1684674)</GOODS_ENG_NAME>\n<ITEM_NAME>기구류중도자기제</ITEM_NAME>\n<NOTICE_DATE>20171113</NOTICE_DATE>\n<FLOW_TO_DATE/>\n<MANUFAC_NAME>INTERNATIONAL A.I.M. CORP</MANUFAC_NAME>\n<MANUFAC_COUNTRY_NAME>중국</MANUFAC_COUNTRY_NAME>\n</item>\n<item>\n<RECEIPT_NO>201700436777</RECEIPT_NO>\n<NOTICE_GOODS_NAME>농.임산물</NOTICE_GOODS_NAME>\n<BSN_OFC_NAME>대림글로벌푸드(주)</BSN_OFC_NAME>\n<GOODS_KOR_NAME>냉동홍고추</GOODS_KOR_NAME>\n<GOODS_ENG_NAME>FROZEN RED CHILLI</GOODS_ENG_NAME>\n<ITEM_NAME>고추/냉동</ITEM_NAME>\n<NOTICE_DATE>20171123</NOTICE_DATE>\n<FLOW_TO_DATE/>\n<MANUFAC_NAME>QINGDAO SENYUAN FOODS.,LTD</MANUFAC_NAME>\n<MANUFAC_COUNTRY_NAME>중국</MANUFAC_COUNTRY_NAME>\n</item>\n<item>\n<RECEIPT_NO>201700440330</RECEIPT_NO>\n<NOTICE_GOODS_NAME>농.임산물</NOTICE_GOODS_NAME>\n<BSN_OFC_NAME>주식회사 엠에스나은글로벌</BSN_OFC_NAME>\n<GOODS_KOR_NAME>냉동고추</GOODS_KOR_NAME>\n<GOODS_ENG_NAME>FROZEN RED CHILLI</GOODS_ENG_NAME>\n<ITEM_NAME>고추/냉동</ITEM_NAME>\n<NOTICE_DATE>20171127</NOTICE_DATE>\n<FLOW_TO_DATE/>\n<MANUFAC_NAME>QINGDAO COWIN INTERNATIONAL TRADE CO., LTD.</MANUFAC_NAME>\n<MANUFAC_COUNTRY_NAME>중국</MANUFAC_COUNTRY_NAME>\n</item>\n<item>\n<RECEIPT_NO>201700407650</RECEIPT_NO>\n<NOTICE_GOODS_NAME>가공식품</NOTICE_GOODS_NAME>\n<BSN_OFC_NAME>이시스무역</BSN_OFC_NAME>\n<GOODS_KOR_NAME>뵈린네케 다크초콜릿스프레드</GOODS_KOR_NAME>\n<GOODS_ENG_NAME>BOERINNEKE DARK CHOCOLATE SPREAD</GOODS_ENG_NAME>\n<ITEM_NAME>초콜릿가공품</ITEM_NAME>\n<NOTICE_DATE>20171102</NOTICE_DATE>\n<FLOW_TO_DATE>20181201</FLOW_TO_DATE>\n<MANUFAC_NAME>BOERINNEKE-MARINO NV</MANUFAC_NAME>\n<MANUFAC_COUNTRY_NAME>벨기에</MANUFAC_COUNTRY_NAME>\n</item>\n<item>\n<RECEIPT_NO>201700485015</RECEIPT_NO>\n<NOTICE_GOODS_NAME>식품첨가물</NOTICE_GOODS_NAME>\n<BSN_OFC_NAME>주식회사 청우라이프사이언스</BSN_OFC_NAME>\n<GOODS_KOR_NAME>난황오일</GOODS_KOR_NAME>\n<GOODS_ENG_NAME>YOLK OIL HF</GOODS_ENG_NAME>\n<ITEM_NAME>기타천연착향료</ITEM_NAME>\n<NOTICE_DATE>20171228</NOTICE_DATE>\n<FLOW_TO_DATE>20180823</FLOW_TO_DATE>\n<MANUFAC_NAME>KEWPIE CORPORATION FINE CHEMICAL GOKA PLANT</MANUFAC_NAME>\n<MANUFAC_COUNTRY_NAME>일본</MANUFAC_COUNTRY_NAME>\n</item>\n</items>\n</body>\n</response>\n\n"
    }
   ],
   "source": [
    "response = requests.get(url+queryParams)\n",
    "print(response.text)\n",
    "\n",
    "\n"
   ]
  }
 ]
}